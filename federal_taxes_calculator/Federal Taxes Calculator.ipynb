{
 "cells": [
  {
   "cell_type": "code",
   "execution_count": 1,
   "metadata": {},
   "outputs": [
    {
     "data": {
      "text/plain": "<IPython.core.display.Javascript object>",
      "application/javascript": "\n            setTimeout(function() {\n                var nbb_cell_id = 1;\n                var nbb_unformatted_code = \"%load_ext nb_black\";\n                var nbb_formatted_code = \"%load_ext nb_black\";\n                var nbb_cells = Jupyter.notebook.get_cells();\n                for (var i = 0; i < nbb_cells.length; ++i) {\n                    if (nbb_cells[i].input_prompt_number == nbb_cell_id) {\n                        if (nbb_cells[i].get_text() == nbb_unformatted_code) {\n                             nbb_cells[i].set_text(nbb_formatted_code);\n                        }\n                        break;\n                    }\n                }\n            }, 500);\n            "
     },
     "metadata": {},
     "output_type": "display_data"
    }
   ],
   "source": [
    "%load_ext nb_black"
   ]
  },
  {
   "cell_type": "code",
   "execution_count": 7,
   "metadata": {},
   "outputs": [
    {
     "data": {
      "text/plain": "<IPython.core.display.Javascript object>",
      "application/javascript": "\n            setTimeout(function() {\n                var nbb_cell_id = 7;\n                var nbb_unformatted_code = \"import numpy as np\\nimport pandas as pd\\nimport seaborn as sns\";\n                var nbb_formatted_code = \"import numpy as np\\nimport pandas as pd\\nimport seaborn as sns\";\n                var nbb_cells = Jupyter.notebook.get_cells();\n                for (var i = 0; i < nbb_cells.length; ++i) {\n                    if (nbb_cells[i].input_prompt_number == nbb_cell_id) {\n                        if (nbb_cells[i].get_text() == nbb_unformatted_code) {\n                             nbb_cells[i].set_text(nbb_formatted_code);\n                        }\n                        break;\n                    }\n                }\n            }, 500);\n            "
     },
     "metadata": {},
     "output_type": "display_data"
    }
   ],
   "source": [
    "import numpy as np\n",
    "import pandas as pd\n",
    "import seaborn as sns"
   ]
  },
  {
   "cell_type": "code",
   "execution_count": 8,
   "metadata": {},
   "outputs": [
    {
     "data": {
      "text/plain": "<IPython.core.display.Javascript object>",
      "application/javascript": "\n            setTimeout(function() {\n                var nbb_cell_id = 8;\n                var nbb_unformatted_code = \"us_income_brackets = [\\n    (0, 19750, .1),\\n    (19751,80250, .12),\\n    (80251,171050,.22),\\n    (171051,326600,.24),\\n    (326601,414700,.32),\\n    (414701,622050,.35),\\n    (622051,float('inf'),.37)\\n]\\n\\nus_ltcg_brackets = [\\n    (0, 80800,0),\\n    (80801,501600,.15),\\n    (501601, float('inf'), .2)]\\n\\nus_niit_brackets = [(0, 250000, 0), (250001, float(\\\"inf\\\"), 0.038)]\\n\\nss_brackets = [(0, 142800, 0.062), (142801, float(\\\"inf\\\"), 0)]\\n# ss_brackets = [(0, 137700, 0.062), (137701, float(\\\"inf\\\"), 0)]\\n\\nmedicare = 0.0145\\n\\nadditional_medicare = [(0, 250000, 0), (250001, float(\\\"inf\\\"), 0.009)]\";\n                var nbb_formatted_code = \"us_income_brackets = [\\n    (0, 19750, 0.1),\\n    (19751, 80250, 0.12),\\n    (80251, 171050, 0.22),\\n    (171051, 326600, 0.24),\\n    (326601, 414700, 0.32),\\n    (414701, 622050, 0.35),\\n    (622051, float(\\\"inf\\\"), 0.37),\\n]\\n\\nus_ltcg_brackets = [(0, 80800, 0), (80801, 501600, 0.15), (501601, float(\\\"inf\\\"), 0.2)]\\n\\nus_niit_brackets = [(0, 250000, 0), (250001, float(\\\"inf\\\"), 0.038)]\\n\\nss_brackets = [(0, 142800, 0.062), (142801, float(\\\"inf\\\"), 0)]\\n# ss_brackets = [(0, 137700, 0.062), (137701, float(\\\"inf\\\"), 0)]\\n\\nmedicare = 0.0145\\n\\nadditional_medicare = [(0, 250000, 0), (250001, float(\\\"inf\\\"), 0.009)]\";\n                var nbb_cells = Jupyter.notebook.get_cells();\n                for (var i = 0; i < nbb_cells.length; ++i) {\n                    if (nbb_cells[i].input_prompt_number == nbb_cell_id) {\n                        if (nbb_cells[i].get_text() == nbb_unformatted_code) {\n                             nbb_cells[i].set_text(nbb_formatted_code);\n                        }\n                        break;\n                    }\n                }\n            }, 500);\n            "
     },
     "metadata": {},
     "output_type": "display_data"
    }
   ],
   "source": [
    "us_income_brackets = [\n",
    "    (0, 19750, .1),\n",
    "    (19751,80250, .12),\n",
    "    (80251,171050,.22),\n",
    "    (171051,326600,.24),\n",
    "    (326601,414700,.32),\n",
    "    (414701,622050,.35),\n",
    "    (622051,float('inf'),.37)\n",
    "]\n",
    "\n",
    "us_ltcg_brackets = [\n",
    "    (0, 80800,0),\n",
    "    (80801,501600,.15),\n",
    "    (501601, float('inf'), .2)]\n",
    "\n",
    "us_niit_brackets = [(0, 250000, 0), (250001, float(\"inf\"), 0.038)]\n",
    "\n",
    "ss_brackets = [(0, 142800, 0.062), (142801, float(\"inf\"), 0)]\n",
    "# ss_brackets = [(0, 137700, 0.062), (137701, float(\"inf\"), 0)]\n",
    "\n",
    "medicare = 0.0145\n",
    "\n",
    "additional_medicare = [(0, 250000, 0), (250001, float(\"inf\"), 0.009)]\n",
    "\n"
   ]
  },
  {
   "cell_type": "code",
   "execution_count": 9,
   "metadata": {},
   "outputs": [
    {
     "data": {
      "text/plain": "<IPython.core.display.Javascript object>",
      "application/javascript": "\n            setTimeout(function() {\n                var nbb_cell_id = 9;\n                var nbb_unformatted_code = \"def us_tax_calculator(regular_income, capital_gains, fica=False, expat=False):\\n    taxable_income = regular_income - 24800\\n\\n    income_tax = 0\\n    for start, end, rate in us_income_brackets:\\n        if taxable_income > end:\\n            income_tax += (end - start) * rate\\n        else:\\n            income_tax += (taxable_income - start) * rate\\n            break\\n\\n    if income_tax < 0:\\n        income_tax = 0\\n\\n    ltcg_tax = 0\\n    for start, end, rate in us_ltcg_brackets:\\n        if (taxable_income) > end:\\n            continue\\n        else:\\n            if (capital_gains + taxable_income) > end:\\n                ltcg_tax += (end - max(start, taxable_income)) * rate\\n            else:\\n                ltcg_tax += (\\n                    capital_gains + taxable_income - max(start, taxable_income)\\n                ) * rate\\n                break\\n\\n    niit_tax = 0\\n    for start, end, rate in us_niit_brackets:\\n        if (taxable_income) > end:\\n            continue\\n        else:\\n            if (capital_gains + taxable_income) > end:\\n                niit_tax += (end - max(start, taxable_income)) * rate\\n            else:\\n                niit_tax += (\\n                    capital_gains + taxable_income - max(start, taxable_income)\\n                ) * rate\\n                break\\n\\n    ltcg_tax += niit_tax\\n\\n    fica_tax = 0\\n    if fica:\\n        for start, end, rate in ss_brackets:\\n            if regular_income > end:\\n                fica_tax += (end - start) * rate\\n            else:\\n                fica_tax += (regular_income - start) * rate\\n                break\\n\\n        fica_tax += regular_income * medicare\\n\\n        for start, end, rate in additional_medicare:\\n            if regular_income > end:\\n                fica_tax += (end - start) * rate\\n            else:\\n                fica_tax += (regular_income - start) * rate\\n                break\\n\\n    fica_tax *= 2 if expat else 1\\n\\n    #     print(\\n    #         f\\\"income tax: ${round(income_tax)}, \\\\\\n    #         fica_tax: ${round(fica_tax)}, \\\\\\n    #         capital gains: ${round(ltcg_tax)}\\\"\\n    #     )\\n\\n    return round(income_tax + fica_tax + ltcg_tax + niit_tax, 0)\";\n                var nbb_formatted_code = \"def us_tax_calculator(regular_income, capital_gains, fica=False, expat=False):\\n    taxable_income = regular_income - 24800\\n\\n    income_tax = 0\\n    for start, end, rate in us_income_brackets:\\n        if taxable_income > end:\\n            income_tax += (end - start) * rate\\n        else:\\n            income_tax += (taxable_income - start) * rate\\n            break\\n\\n    if income_tax < 0:\\n        income_tax = 0\\n\\n    ltcg_tax = 0\\n    for start, end, rate in us_ltcg_brackets:\\n        if (taxable_income) > end:\\n            continue\\n        else:\\n            if (capital_gains + taxable_income) > end:\\n                ltcg_tax += (end - max(start, taxable_income)) * rate\\n            else:\\n                ltcg_tax += (\\n                    capital_gains + taxable_income - max(start, taxable_income)\\n                ) * rate\\n                break\\n\\n    niit_tax = 0\\n    for start, end, rate in us_niit_brackets:\\n        if (taxable_income) > end:\\n            continue\\n        else:\\n            if (capital_gains + taxable_income) > end:\\n                niit_tax += (end - max(start, taxable_income)) * rate\\n            else:\\n                niit_tax += (\\n                    capital_gains + taxable_income - max(start, taxable_income)\\n                ) * rate\\n                break\\n\\n    ltcg_tax += niit_tax\\n\\n    fica_tax = 0\\n    if fica:\\n        for start, end, rate in ss_brackets:\\n            if regular_income > end:\\n                fica_tax += (end - start) * rate\\n            else:\\n                fica_tax += (regular_income - start) * rate\\n                break\\n\\n        fica_tax += regular_income * medicare\\n\\n        for start, end, rate in additional_medicare:\\n            if regular_income > end:\\n                fica_tax += (end - start) * rate\\n            else:\\n                fica_tax += (regular_income - start) * rate\\n                break\\n\\n    fica_tax *= 2 if expat else 1\\n\\n    #     print(\\n    #         f\\\"income tax: ${round(income_tax)}, \\\\\\n    #         fica_tax: ${round(fica_tax)}, \\\\\\n    #         capital gains: ${round(ltcg_tax)}\\\"\\n    #     )\\n\\n    return round(income_tax + fica_tax + ltcg_tax + niit_tax, 0)\";\n                var nbb_cells = Jupyter.notebook.get_cells();\n                for (var i = 0; i < nbb_cells.length; ++i) {\n                    if (nbb_cells[i].input_prompt_number == nbb_cell_id) {\n                        if (nbb_cells[i].get_text() == nbb_unformatted_code) {\n                             nbb_cells[i].set_text(nbb_formatted_code);\n                        }\n                        break;\n                    }\n                }\n            }, 500);\n            "
     },
     "metadata": {},
     "output_type": "display_data"
    }
   ],
   "source": [
    "def us_tax_calculator(regular_income, capital_gains, fica=False, expat=False):\n",
    "    taxable_income = regular_income - 24800\n",
    "\n",
    "    income_tax = 0\n",
    "    for start, end, rate in us_income_brackets:\n",
    "        if taxable_income > end:\n",
    "            income_tax += (end - start) * rate\n",
    "        else:\n",
    "            income_tax += (taxable_income - start) * rate\n",
    "            break\n",
    "\n",
    "    if income_tax < 0:\n",
    "        income_tax = 0\n",
    "\n",
    "    ltcg_tax = 0\n",
    "    for start, end, rate in us_ltcg_brackets:\n",
    "        if (taxable_income) > end:\n",
    "            continue\n",
    "        else:\n",
    "            if (capital_gains + taxable_income) > end:\n",
    "                ltcg_tax += (end - max(start, taxable_income)) * rate\n",
    "            else:\n",
    "                ltcg_tax += (\n",
    "                    capital_gains + taxable_income - max(start, taxable_income)\n",
    "                ) * rate\n",
    "                break\n",
    "\n",
    "    niit_tax = 0\n",
    "    for start, end, rate in us_niit_brackets:\n",
    "        if (taxable_income) > end:\n",
    "            continue\n",
    "        else:\n",
    "            if (capital_gains + taxable_income) > end:\n",
    "                niit_tax += (end - max(start, taxable_income)) * rate\n",
    "            else:\n",
    "                niit_tax += (\n",
    "                    capital_gains + taxable_income - max(start, taxable_income)\n",
    "                ) * rate\n",
    "                break\n",
    "\n",
    "    ltcg_tax += niit_tax\n",
    "\n",
    "    fica_tax = 0\n",
    "    if fica:\n",
    "        for start, end, rate in ss_brackets:\n",
    "            if regular_income > end:\n",
    "                fica_tax += (end - start) * rate\n",
    "            else:\n",
    "                fica_tax += (regular_income - start) * rate\n",
    "                break\n",
    "\n",
    "        fica_tax += regular_income * medicare\n",
    "\n",
    "        for start, end, rate in additional_medicare:\n",
    "            if regular_income > end:\n",
    "                fica_tax += (end - start) * rate\n",
    "            else:\n",
    "                fica_tax += (regular_income - start) * rate\n",
    "                break\n",
    "\n",
    "    fica_tax *= 2 if expat else 1\n",
    "\n",
    "    #     print(\n",
    "    #         f\"income tax: ${round(income_tax)}, \\\n",
    "    #         fica_tax: ${round(fica_tax)}, \\\n",
    "    #         capital gains: ${round(ltcg_tax)}\"\n",
    "    #     )\n",
    "\n",
    "    return round(income_tax + fica_tax + ltcg_tax + niit_tax, 0)"
   ]
  },
  {
   "cell_type": "code",
   "execution_count": 11,
   "metadata": {},
   "outputs": [
    {
     "data": {
      "text/plain": "8419.0"
     },
     "execution_count": 11,
     "metadata": {},
     "output_type": "execute_result"
    },
    {
     "data": {
      "text/plain": "<IPython.core.display.Javascript object>",
      "application/javascript": "\n            setTimeout(function() {\n                var nbb_cell_id = 11;\n                var nbb_unformatted_code = \"us_tax_calculator(60000, 15000, fica=True)\";\n                var nbb_formatted_code = \"us_tax_calculator(60000, 15000, fica=True)\";\n                var nbb_cells = Jupyter.notebook.get_cells();\n                for (var i = 0; i < nbb_cells.length; ++i) {\n                    if (nbb_cells[i].input_prompt_number == nbb_cell_id) {\n                        if (nbb_cells[i].get_text() == nbb_unformatted_code) {\n                             nbb_cells[i].set_text(nbb_formatted_code);\n                        }\n                        break;\n                    }\n                }\n            }, 500);\n            "
     },
     "metadata": {},
     "output_type": "display_data"
    }
   ],
   "source": [
    "us_tax_calculator(60000, 15000, fica=True)"
   ]
  },
  {
   "cell_type": "code",
   "execution_count": 12,
   "metadata": {},
   "outputs": [
    {
     "data": {
      "text/plain": "<IPython.core.display.Javascript object>",
      "application/javascript": "\n            setTimeout(function() {\n                var nbb_cell_id = 12;\n                var nbb_unformatted_code = \"eur = 1.17\\n\\nspain_income_brackets = [\\n    (0,12450*eur,0.19),\\n    (12450*eur,20200*eur,0.24),\\n    (20200*eur, 35200*eur, 0.30),\\n    (35200*eur, 60000*eur, 0.37),\\n    (60000*eur, 300000*eur,0.45),\\n    (300000*eur, float('inf'), 0.47)\\n]\\n\\nspain_ltcg_brackets = [\\n    (0,6000*eur,0.19),\\n    (6001,50000*eur,0.21),\\n    (50000*eur, 200000*eur, 0.23),\\n    (200000*eur,float('inf'),0.26)\\n]\\n\\n\\n\\n# https://www.lainformacion.com/economia-negocios-y-finanzas/subida-fiscal-sanchez-iglesias-penalizara-40-por-ciento-ganancias-capital-declaradas-impuesto-renta/2819112/\";\n                var nbb_formatted_code = \"eur = 1.17\\n\\nspain_income_brackets = [\\n    (0, 12450 * eur, 0.19),\\n    (12450 * eur, 20200 * eur, 0.24),\\n    (20200 * eur, 35200 * eur, 0.30),\\n    (35200 * eur, 60000 * eur, 0.37),\\n    (60000 * eur, 300000 * eur, 0.45),\\n    (300000 * eur, float(\\\"inf\\\"), 0.47),\\n]\\n\\nspain_ltcg_brackets = [\\n    (0, 6000 * eur, 0.19),\\n    (6001, 50000 * eur, 0.21),\\n    (50000 * eur, 200000 * eur, 0.23),\\n    (200000 * eur, float(\\\"inf\\\"), 0.26),\\n]\\n\\n\\n# https://www.lainformacion.com/economia-negocios-y-finanzas/subida-fiscal-sanchez-iglesias-penalizara-40-por-ciento-ganancias-capital-declaradas-impuesto-renta/2819112/\";\n                var nbb_cells = Jupyter.notebook.get_cells();\n                for (var i = 0; i < nbb_cells.length; ++i) {\n                    if (nbb_cells[i].input_prompt_number == nbb_cell_id) {\n                        if (nbb_cells[i].get_text() == nbb_unformatted_code) {\n                             nbb_cells[i].set_text(nbb_formatted_code);\n                        }\n                        break;\n                    }\n                }\n            }, 500);\n            "
     },
     "metadata": {},
     "output_type": "display_data"
    }
   ],
   "source": [
    "eur = 1.17\n",
    "\n",
    "spain_income_brackets = [\n",
    "    (0,12450*eur,0.19),\n",
    "    (12450*eur,20200*eur,0.24),\n",
    "    (20200*eur, 35200*eur, 0.30),\n",
    "    (35200*eur, 60000*eur, 0.37),\n",
    "    (60000*eur, 300000*eur,0.45),\n",
    "    (300000*eur, float('inf'), 0.47)\n",
    "]\n",
    "\n",
    "spain_ltcg_brackets = [\n",
    "    (0,6000*eur,0.19),\n",
    "    (6001,50000*eur,0.21),\n",
    "    (50000*eur, 200000*eur, 0.23),\n",
    "    (200000*eur,float('inf'),0.26)\n",
    "]\n",
    "\n",
    "\n",
    "\n",
    "# https://www.lainformacion.com/economia-negocios-y-finanzas/subida-fiscal-sanchez-iglesias-penalizara-40-por-ciento-ganancias-capital-declaradas-impuesto-renta/2819112/\n",
    "\n"
   ]
  },
  {
   "cell_type": "code",
   "execution_count": 13,
   "metadata": {},
   "outputs": [
    {
     "data": {
      "text/plain": "<IPython.core.display.Javascript object>",
      "application/javascript": "\n            setTimeout(function() {\n                var nbb_cell_id = 13;\n                var nbb_unformatted_code = \"def spain_tax_calculator(regular_income, capital_gains):\\n    taxable_income = regular_income\\n\\n    income_tax = 0\\n    for start, end, rate in spain_income_brackets:\\n        if taxable_income > end:\\n            income_tax += (end - start) * rate\\n        else:\\n            income_tax += (taxable_income - start) * rate\\n            break\\n\\n    ltcg_tax = 0\\n    for start, end, rate in spain_ltcg_brackets:\\n        if capital_gains > end:\\n            ltcg_tax += (end - start) * rate\\n        else:\\n            ltcg_tax += (capital_gains - start) * rate\\n            break\\n\\n    #     print(\\n    #         f\\\"income tax: ${round(income_tax)}, \\\\\\n    #         capital gains: ${round(ltcg_tax)}\\\"\\n    #     )\\n\\n    return round(income_tax + ltcg_tax, 0)\";\n                var nbb_formatted_code = \"def spain_tax_calculator(regular_income, capital_gains):\\n    taxable_income = regular_income\\n\\n    income_tax = 0\\n    for start, end, rate in spain_income_brackets:\\n        if taxable_income > end:\\n            income_tax += (end - start) * rate\\n        else:\\n            income_tax += (taxable_income - start) * rate\\n            break\\n\\n    ltcg_tax = 0\\n    for start, end, rate in spain_ltcg_brackets:\\n        if capital_gains > end:\\n            ltcg_tax += (end - start) * rate\\n        else:\\n            ltcg_tax += (capital_gains - start) * rate\\n            break\\n\\n    #     print(\\n    #         f\\\"income tax: ${round(income_tax)}, \\\\\\n    #         capital gains: ${round(ltcg_tax)}\\\"\\n    #     )\\n\\n    return round(income_tax + ltcg_tax, 0)\";\n                var nbb_cells = Jupyter.notebook.get_cells();\n                for (var i = 0; i < nbb_cells.length; ++i) {\n                    if (nbb_cells[i].input_prompt_number == nbb_cell_id) {\n                        if (nbb_cells[i].get_text() == nbb_unformatted_code) {\n                             nbb_cells[i].set_text(nbb_formatted_code);\n                        }\n                        break;\n                    }\n                }\n            }, 500);\n            "
     },
     "metadata": {},
     "output_type": "display_data"
    }
   ],
   "source": [
    "def spain_tax_calculator(regular_income, capital_gains):\n",
    "    taxable_income = regular_income\n",
    "\n",
    "    income_tax = 0\n",
    "    for start, end, rate in spain_income_brackets:\n",
    "        if taxable_income > end:\n",
    "            income_tax += (end - start) * rate\n",
    "        else:\n",
    "            income_tax += (taxable_income - start) * rate\n",
    "            break\n",
    "\n",
    "    ltcg_tax = 0\n",
    "    for start, end, rate in spain_ltcg_brackets:\n",
    "        if capital_gains > end:\n",
    "            ltcg_tax += (end - start) * rate\n",
    "        else:\n",
    "            ltcg_tax += (capital_gains - start) * rate\n",
    "            break\n",
    "\n",
    "    #     print(\n",
    "    #         f\"income tax: ${round(income_tax)}, \\\n",
    "    #         capital gains: ${round(ltcg_tax)}\"\n",
    "    #     )\n",
    "\n",
    "    return round(income_tax + ltcg_tax, 0)"
   ]
  },
  {
   "cell_type": "code",
   "execution_count": 14,
   "metadata": {},
   "outputs": [
    {
     "name": "stdout",
     "output_type": "stream",
     "text": [
      "13009.0\n",
      "20394.0\n"
     ]
    },
    {
     "data": {
      "text/plain": "<IPython.core.display.Javascript object>",
      "application/javascript": "\n            setTimeout(function() {\n                var nbb_cell_id = 14;\n                var nbb_unformatted_code = \"income = 60000\\ngains = 15000\\n\\nprint(us_tax_calculator(income, gains, fica=True, expat=True))\\nprint(spain_tax_calculator(income, gains))\";\n                var nbb_formatted_code = \"income = 60000\\ngains = 15000\\n\\nprint(us_tax_calculator(income, gains, fica=True, expat=True))\\nprint(spain_tax_calculator(income, gains))\";\n                var nbb_cells = Jupyter.notebook.get_cells();\n                for (var i = 0; i < nbb_cells.length; ++i) {\n                    if (nbb_cells[i].input_prompt_number == nbb_cell_id) {\n                        if (nbb_cells[i].get_text() == nbb_unformatted_code) {\n                             nbb_cells[i].set_text(nbb_formatted_code);\n                        }\n                        break;\n                    }\n                }\n            }, 500);\n            "
     },
     "metadata": {},
     "output_type": "display_data"
    }
   ],
   "source": [
    "income = 60000\n",
    "gains = 15000\n",
    "\n",
    "print(us_tax_calculator(income, gains, fica=True, expat=True))\n",
    "print(spain_tax_calculator(income, gains))"
   ]
  },
  {
   "cell_type": "code",
   "execution_count": 15,
   "metadata": {},
   "outputs": [
    {
     "data": {
      "text/plain": "<Figure size 432x288 with 1 Axes>",
      "image/png": "[encoded data removed]"
     },
     "metadata": {
      "needs_background": "light"
     },
     "output_type": "display_data"
    },
    {
     "data": {
      "text/plain": "<IPython.core.display.Javascript object>",
      "application/javascript": "\n            setTimeout(function() {\n                var nbb_cell_id = 15;\n                var nbb_unformatted_code = \"import matplotlib.pyplot as plt\\n\\nx = np.linspace(0, 5e5, 201)\\ny_us = [us_tax_calculator(inc, 0) for inc in x]\\ny_es = [spain_tax_calculator(inc, 0) for inc in x]\\ny_diff = [spain_tax_calculator(inc, 0) - us_tax_calculator(inc, 0) for inc in x]\\n\\n# plt.plot(x, y_us - y_es)\\nplt.plot(x, y_diff)\\nplt.grid()\\nplt.show()\";\n                var nbb_formatted_code = \"import matplotlib.pyplot as plt\\n\\nx = np.linspace(0, 5e5, 201)\\ny_us = [us_tax_calculator(inc, 0) for inc in x]\\ny_es = [spain_tax_calculator(inc, 0) for inc in x]\\ny_diff = [spain_tax_calculator(inc, 0) - us_tax_calculator(inc, 0) for inc in x]\\n\\n# plt.plot(x, y_us - y_es)\\nplt.plot(x, y_diff)\\nplt.grid()\\nplt.show()\";\n                var nbb_cells = Jupyter.notebook.get_cells();\n                for (var i = 0; i < nbb_cells.length; ++i) {\n                    if (nbb_cells[i].input_prompt_number == nbb_cell_id) {\n                        if (nbb_cells[i].get_text() == nbb_unformatted_code) {\n                             nbb_cells[i].set_text(nbb_formatted_code);\n                        }\n                        break;\n                    }\n                }\n            }, 500);\n            "
     },
     "metadata": {},
     "output_type": "display_data"
    }
   ],
   "source": [
    "import matplotlib.pyplot as plt\n",
    "\n",
    "x = np.linspace(0, 5e5, 201)\n",
    "y_us = [us_tax_calculator(inc, 0) for inc in x]\n",
    "y_es = [spain_tax_calculator(inc, 0) for inc in x]\n",
    "y_diff = [spain_tax_calculator(inc, 0) - us_tax_calculator(inc, 0) for inc in x]\n",
    "\n",
    "# plt.plot(x, y_us - y_es)\n",
    "plt.plot(x, y_diff)\n",
    "plt.grid()\n",
    "plt.show()"
   ]
  },
  {
   "cell_type": "code",
   "execution_count": 16,
   "metadata": {},
   "outputs": [
    {
     "data": {
      "text/plain": "<Figure size 432x288 with 1 Axes>",
      "image/png": "[encoded data removed]"
     },
     "metadata": {
      "needs_background": "light"
     },
     "output_type": "display_data"
    },
    {
     "data": {
      "text/plain": "<IPython.core.display.Javascript object>",
      "application/javascript": "\n            setTimeout(function() {\n                var nbb_cell_id = 16;\n                var nbb_unformatted_code = \"import matplotlib.pyplot as plt\\n\\ninc = 100000\\n\\nx = np.linspace(0, 3.25e6, 201)\\ny_us = [us_tax_calculator(inc, gains) for gains in x]\\ny_es = [spain_tax_calculator(inc, gains) for gains in x]\\ny_diff = [\\n    spain_tax_calculator(inc, gains) - us_tax_calculator(inc, gains) for gains in x\\n]\\n\\n# plt.plot(x, y_us)\\n# plt.plot(x, y_es)\\nplt.plot(x, y_diff, marker=\\\".\\\")\\nplt.grid()\\nplt.show()\";\n                var nbb_formatted_code = \"import matplotlib.pyplot as plt\\n\\ninc = 100000\\n\\nx = np.linspace(0, 3.25e6, 201)\\ny_us = [us_tax_calculator(inc, gains) for gains in x]\\ny_es = [spain_tax_calculator(inc, gains) for gains in x]\\ny_diff = [\\n    spain_tax_calculator(inc, gains) - us_tax_calculator(inc, gains) for gains in x\\n]\\n\\n# plt.plot(x, y_us)\\n# plt.plot(x, y_es)\\nplt.plot(x, y_diff, marker=\\\".\\\")\\nplt.grid()\\nplt.show()\";\n                var nbb_cells = Jupyter.notebook.get_cells();\n                for (var i = 0; i < nbb_cells.length; ++i) {\n                    if (nbb_cells[i].input_prompt_number == nbb_cell_id) {\n                        if (nbb_cells[i].get_text() == nbb_unformatted_code) {\n                             nbb_cells[i].set_text(nbb_formatted_code);\n                        }\n                        break;\n                    }\n                }\n            }, 500);\n            "
     },
     "metadata": {},
     "output_type": "display_data"
    }
   ],
   "source": [
    "import matplotlib.pyplot as plt\n",
    "\n",
    "inc = 100000\n",
    "\n",
    "x = np.linspace(0, 3.25e6, 201)\n",
    "y_us = [us_tax_calculator(inc, gains) for gains in x]\n",
    "y_es = [spain_tax_calculator(inc, gains) for gains in x]\n",
    "y_diff = [\n",
    "    spain_tax_calculator(inc, gains) - us_tax_calculator(inc, gains) for gains in x\n",
    "]\n",
    "\n",
    "# plt.plot(x, y_us)\n",
    "# plt.plot(x, y_es)\n",
    "plt.plot(x, y_diff, marker=\".\")\n",
    "plt.grid()\n",
    "plt.show()"
   ]
  },
  {
   "cell_type": "code",
   "execution_count": null,
   "metadata": {},
   "outputs": [],
   "source": []
  }
 ],
 "metadata": {
  "kernelspec": {
   "display_name": "Python 3",
   "language": "python",
   "name": "python3"
  },
  "language_info": {
   "codemirror_mode": {
    "name": "ipython",
    "version": 3
   },
   "file_extension": ".py",
   "mimetype": "text/x-python",
   "name": "python",
   "nbconvert_exporter": "python",
   "pygments_lexer": "ipython3",
   "version": "3.8.5"
  }
 },
 "nbformat": 4,
 "nbformat_minor": 4
}